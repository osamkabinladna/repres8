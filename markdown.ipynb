{
 "cells": [
  {
   "metadata": {},
   "cell_type": "markdown",
   "source": [
    "# The Office\n",
    "\n",
    "The Office is an American **mockumentary sitcom television** series based on the 2001–2003 BBC series The Office created by *Ricky Gervais* and *Stephen Merchant* and starring the former. Adapted for NBC by *Greg Daniels*, a veteran writer for **Saturday Night Live**, **King of the Hill**, and **The Simpsons**, the show depicts the everyday work lives of office employees at the Scranton, Pennsylvania, branch of the fictional Dunder Mifflin Paper Company, and aired from March 24, 2005, to May 16, 2013, with a total of nine seasons consisting of 201 episodes.[1] The show was co-produced by **Daniels' Deedle-Dee Productions**, **Reveille Productions** (later Shine America) and 3 Arts Entertainment (although uncredited) in association with Universal Television. The original executive producers were *Daniels*, *Gervais*, *Merchant*, *Howard Klein* and *Ben Silverman*, with numerous others being promoted in later seasons.\n",
    "V\n",
    "Like its British counterpart, the series was filmed in a single-camera setup without a studio audience or a laugh track, to mirror the look of an actual documentary. It debuted on NBC as a mid-season replacement and ended its nine-season run on May 16, 2013, with a two-part series finale. Its original main cast was *Steve Carell*, *Rainn Wilson*, *John Krasinski*, *Jenna Fischer*, and *B. J. Novak*. It experienced numerous changes to its ensemble cast during its run. Stars outside the original main cast include Ed Helms, *Rashida Jones*, *Amy Ryan*, *Mindy Kaling*, *Craig Robinson*, *James Spader*, *Ellie Kemper*, and *Catherine Tate*.\n"
   ],
   "id": "5ffadc5fce43468a"
  },
  {
   "metadata": {},
   "cell_type": "code",
   "outputs": [],
   "execution_count": null,
   "source": "",
   "id": "d4b42c88f14357a8"
  }
 ],
 "metadata": {
  "kernelspec": {
   "display_name": "Python 3",
   "language": "python",
   "name": "python3"
  },
  "language_info": {
   "codemirror_mode": {
    "name": "ipython",
    "version": 2
   },
   "file_extension": ".py",
   "mimetype": "text/x-python",
   "name": "python",
   "nbconvert_exporter": "python",
   "pygments_lexer": "ipython2",
   "version": "2.7.6"
  }
 },
 "nbformat": 4,
 "nbformat_minor": 5
}
